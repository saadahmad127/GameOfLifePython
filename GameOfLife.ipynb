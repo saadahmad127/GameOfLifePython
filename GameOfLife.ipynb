{
 "cells": [
  {
   "cell_type": "code",
   "execution_count": 1,
   "id": "26c3c761",
   "metadata": {},
   "outputs": [],
   "source": [
    "from tkinter import *\n",
    "import numpy as np\n",
    "import random"
   ]
  },
  {
   "cell_type": "code",
   "execution_count": 8,
   "id": "bcf063a5",
   "metadata": {},
   "outputs": [],
   "source": [
    "def main():\n",
    "#     print(\"1\")\n",
    "    w.delete(\"all\")\n",
    "    ngrid = np.zeros_like(cgrid)\n",
    "    curr_grid=np.copy(cgrid)\n",
    "    #COUNTING NEIGHBORS\n",
    "    #-----------------------------------------------------------\n",
    "    for row in range(1, GRIDSIZE+1):\n",
    "        for col in range(1, GRIDSIZE+1):\n",
    "            ngrid[row][col] = np.sum(cgrid[row-1:row+2, col-1:col+2]) - cgrid[row][col]\n",
    "    #-----------------------------------------------------------\n",
    "    #UPDATING GRID\n",
    "    for row in range(1, GRIDSIZE+1):\n",
    "        for col in range(1, GRIDSIZE+1):\n",
    "            if (ngrid[row][col] == 3) or (cgrid[row][col] == 1 and ngrid[row][col] == 2):\n",
    "                cgrid[row][col] = 1\n",
    "            else:\n",
    "                cgrid[row][col] = 0\n",
    "    #-----------------------------------------------------------\n",
    "    #if previous and curr generation is same then quit\n",
    "    if (np.array_equal(cgrid,curr_grid)):\n",
    "        print(\"both equal\")\n",
    "        master.destroy()\n",
    "    #-----------------------------------------------------------\n",
    "    else:\n",
    "        #Check if previous and current+1 generation is same. It means it is stuck in infinite loop\n",
    "        nextgridcheck = np.zeros((GRIDSIZE+2, GRIDSIZE+2), dtype='int')\n",
    "        for row in range(1, GRIDSIZE+1):#neighbor count of present grid\n",
    "            for col in range(1, GRIDSIZE+1):\n",
    "                ngrid[row][col] = np.sum(cgrid[row-1:row+2, col-1:col+2]) - cgrid[row][col]\n",
    "        #-----------------------------\n",
    "        for row in range(1, GRIDSIZE+1):\n",
    "            for col in range(1, GRIDSIZE+1):\n",
    "                if (ngrid[row][col] == 3) or (cgrid[row][col] == 1 and ngrid[row][col] == 2):\n",
    "                    nextgridcheck[row][col] = 1\n",
    "                else:\n",
    "                    nextgridcheck[row][col] = 0\n",
    "        #---------------------------------\n",
    "        if (np.array_equal(curr_grid,nextgridcheck)):#checking if next generation is same is (present-1)\n",
    "            master.destroy()\n",
    "    #-----------------------------------------------------------\n",
    "    #DRAWING BOARD\n",
    "    for i in range(GRIDSIZE):\n",
    "        for j in range(GRIDSIZE):\n",
    "            if cgrid[i][j] == 1:\n",
    "                w.create_rectangle(i*21, j*21, i*21 + 20,j*21 + 20, fill='chartreuse2')\n",
    "            else:\n",
    "                w.create_rectangle(i*21, j*21, i*21 + 20, j*21+20, fill='brown4')\n",
    "    #-----------------------------------------------------------\n",
    "    w.after(250,main)#call main() again after every 1/4 of second (250 millisecond) which means frame rate is 4 frames per sec"
   ]
  },
  {
   "cell_type": "code",
   "execution_count": 9,
   "id": "2eaa0e9f",
   "metadata": {},
   "outputs": [
    {
     "name": "stdout",
     "output_type": "stream",
     "text": [
      "both equal\n"
     ]
    },
    {
     "name": "stderr",
     "output_type": "stream",
     "text": [
      "Exception in Tkinter callback\n",
      "Traceback (most recent call last):\n",
      "  File \"C:\\Users\\saada\\anaconda3\\lib\\tkinter\\__init__.py\", line 1892, in __call__\n",
      "    return self.func(*args)\n",
      "  File \"C:\\Users\\saada\\anaconda3\\lib\\tkinter\\__init__.py\", line 814, in callit\n",
      "    func(*args)\n",
      "  File \"<ipython-input-8-2f442a59b288>\", line 48, in main\n",
      "    w.create_rectangle(i*21, j*21, i*21 + 20, j*21+20, fill='brown4')\n",
      "  File \"C:\\Users\\saada\\anaconda3\\lib\\tkinter\\__init__.py\", line 2806, in create_rectangle\n",
      "    return self._create('rectangle', args, kw)\n",
      "  File \"C:\\Users\\saada\\anaconda3\\lib\\tkinter\\__init__.py\", line 2776, in _create\n",
      "    return self.tk.getint(self.tk.call(\n",
      "_tkinter.TclError: invalid command name \".!canvas\"\n"
     ]
    }
   ],
   "source": [
    "master = Tk()\n",
    "\n",
    "global flag\n",
    "flag=False\n",
    "w = Canvas(master, width=220,height=220)#creating canvas\n",
    "GRIDSIZE = 10\n",
    "cgrid = np.zeros((GRIDSIZE+2, GRIDSIZE+2), dtype='int')#setting up the board\n",
    "cgrid[1:-1, 1:-1] = np.random.randint(2, size=(GRIDSIZE, GRIDSIZE))#initializing the board\n",
    "w.pack()\n",
    "main() #calling again & again to show new generation of cells  \n",
    "\n",
    "mainloop()"
   ]
  },
  {
   "cell_type": "code",
   "execution_count": null,
   "id": "009e1196",
   "metadata": {},
   "outputs": [],
   "source": []
  },
  {
   "cell_type": "code",
   "execution_count": null,
   "id": "c68c198b",
   "metadata": {},
   "outputs": [],
   "source": []
  }
 ],
 "metadata": {
  "kernelspec": {
   "display_name": "Python 3",
   "language": "python",
   "name": "python3"
  },
  "language_info": {
   "codemirror_mode": {
    "name": "ipython",
    "version": 3
   },
   "file_extension": ".py",
   "mimetype": "text/x-python",
   "name": "python",
   "nbconvert_exporter": "python",
   "pygments_lexer": "ipython3",
   "version": "3.8.8"
  }
 },
 "nbformat": 4,
 "nbformat_minor": 5
}
